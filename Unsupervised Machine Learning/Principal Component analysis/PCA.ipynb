{
 "cells": [
  {
   "cell_type": "markdown",
   "metadata": {},
   "source": [
    "### House Price"
   ]
  },
  {
   "cell_type": "code",
   "execution_count": 1,
   "metadata": {},
   "outputs": [],
   "source": [
    "import numpy as np\n",
    "import pandas as pd\n",
    "import matplotlib.pyplot as plt\n",
    "import seaborn as sns\n",
    "\n",
    "import warnings\n",
    "warnings.filterwarnings('ignore')"
   ]
  },
  {
   "cell_type": "code",
   "execution_count": 5,
   "metadata": {},
   "outputs": [
    {
     "data": {
      "text/html": [
       "<div>\n",
       "<style scoped>\n",
       "    .dataframe tbody tr th:only-of-type {\n",
       "        vertical-align: middle;\n",
       "    }\n",
       "\n",
       "    .dataframe tbody tr th {\n",
       "        vertical-align: top;\n",
       "    }\n",
       "\n",
       "    .dataframe thead th {\n",
       "        text-align: right;\n",
       "    }\n",
       "</style>\n",
       "<table border=\"1\" class=\"dataframe\">\n",
       "  <thead>\n",
       "    <tr style=\"text-align: right;\">\n",
       "      <th></th>\n",
       "      <th>Id</th>\n",
       "      <th>MSSubClass</th>\n",
       "      <th>MSZoning</th>\n",
       "      <th>LotFrontage</th>\n",
       "      <th>LotArea</th>\n",
       "      <th>Street</th>\n",
       "      <th>Alley</th>\n",
       "      <th>LotShape</th>\n",
       "      <th>LandContour</th>\n",
       "      <th>Utilities</th>\n",
       "      <th>...</th>\n",
       "      <th>PoolArea</th>\n",
       "      <th>PoolQC</th>\n",
       "      <th>Fence</th>\n",
       "      <th>MiscFeature</th>\n",
       "      <th>MiscVal</th>\n",
       "      <th>MoSold</th>\n",
       "      <th>YrSold</th>\n",
       "      <th>SaleType</th>\n",
       "      <th>SaleCondition</th>\n",
       "      <th>SalePrice</th>\n",
       "    </tr>\n",
       "  </thead>\n",
       "  <tbody>\n",
       "    <tr>\n",
       "      <th>0</th>\n",
       "      <td>1</td>\n",
       "      <td>60</td>\n",
       "      <td>RL</td>\n",
       "      <td>65.0</td>\n",
       "      <td>8450</td>\n",
       "      <td>Pave</td>\n",
       "      <td>NaN</td>\n",
       "      <td>Reg</td>\n",
       "      <td>Lvl</td>\n",
       "      <td>AllPub</td>\n",
       "      <td>...</td>\n",
       "      <td>0</td>\n",
       "      <td>NaN</td>\n",
       "      <td>NaN</td>\n",
       "      <td>NaN</td>\n",
       "      <td>0</td>\n",
       "      <td>2</td>\n",
       "      <td>2008</td>\n",
       "      <td>WD</td>\n",
       "      <td>Normal</td>\n",
       "      <td>208500</td>\n",
       "    </tr>\n",
       "    <tr>\n",
       "      <th>1</th>\n",
       "      <td>2</td>\n",
       "      <td>20</td>\n",
       "      <td>RL</td>\n",
       "      <td>80.0</td>\n",
       "      <td>9600</td>\n",
       "      <td>Pave</td>\n",
       "      <td>NaN</td>\n",
       "      <td>Reg</td>\n",
       "      <td>Lvl</td>\n",
       "      <td>AllPub</td>\n",
       "      <td>...</td>\n",
       "      <td>0</td>\n",
       "      <td>NaN</td>\n",
       "      <td>NaN</td>\n",
       "      <td>NaN</td>\n",
       "      <td>0</td>\n",
       "      <td>5</td>\n",
       "      <td>2007</td>\n",
       "      <td>WD</td>\n",
       "      <td>Normal</td>\n",
       "      <td>181500</td>\n",
       "    </tr>\n",
       "    <tr>\n",
       "      <th>2</th>\n",
       "      <td>3</td>\n",
       "      <td>60</td>\n",
       "      <td>RL</td>\n",
       "      <td>68.0</td>\n",
       "      <td>11250</td>\n",
       "      <td>Pave</td>\n",
       "      <td>NaN</td>\n",
       "      <td>IR1</td>\n",
       "      <td>Lvl</td>\n",
       "      <td>AllPub</td>\n",
       "      <td>...</td>\n",
       "      <td>0</td>\n",
       "      <td>NaN</td>\n",
       "      <td>NaN</td>\n",
       "      <td>NaN</td>\n",
       "      <td>0</td>\n",
       "      <td>9</td>\n",
       "      <td>2008</td>\n",
       "      <td>WD</td>\n",
       "      <td>Normal</td>\n",
       "      <td>223500</td>\n",
       "    </tr>\n",
       "    <tr>\n",
       "      <th>3</th>\n",
       "      <td>4</td>\n",
       "      <td>70</td>\n",
       "      <td>RL</td>\n",
       "      <td>60.0</td>\n",
       "      <td>9550</td>\n",
       "      <td>Pave</td>\n",
       "      <td>NaN</td>\n",
       "      <td>IR1</td>\n",
       "      <td>Lvl</td>\n",
       "      <td>AllPub</td>\n",
       "      <td>...</td>\n",
       "      <td>0</td>\n",
       "      <td>NaN</td>\n",
       "      <td>NaN</td>\n",
       "      <td>NaN</td>\n",
       "      <td>0</td>\n",
       "      <td>2</td>\n",
       "      <td>2006</td>\n",
       "      <td>WD</td>\n",
       "      <td>Abnorml</td>\n",
       "      <td>140000</td>\n",
       "    </tr>\n",
       "    <tr>\n",
       "      <th>4</th>\n",
       "      <td>5</td>\n",
       "      <td>60</td>\n",
       "      <td>RL</td>\n",
       "      <td>84.0</td>\n",
       "      <td>14260</td>\n",
       "      <td>Pave</td>\n",
       "      <td>NaN</td>\n",
       "      <td>IR1</td>\n",
       "      <td>Lvl</td>\n",
       "      <td>AllPub</td>\n",
       "      <td>...</td>\n",
       "      <td>0</td>\n",
       "      <td>NaN</td>\n",
       "      <td>NaN</td>\n",
       "      <td>NaN</td>\n",
       "      <td>0</td>\n",
       "      <td>12</td>\n",
       "      <td>2008</td>\n",
       "      <td>WD</td>\n",
       "      <td>Normal</td>\n",
       "      <td>250000</td>\n",
       "    </tr>\n",
       "  </tbody>\n",
       "</table>\n",
       "<p>5 rows × 81 columns</p>\n",
       "</div>"
      ],
      "text/plain": [
       "   Id  MSSubClass MSZoning  LotFrontage  LotArea Street Alley LotShape  \\\n",
       "0   1          60       RL         65.0     8450   Pave   NaN      Reg   \n",
       "1   2          20       RL         80.0     9600   Pave   NaN      Reg   \n",
       "2   3          60       RL         68.0    11250   Pave   NaN      IR1   \n",
       "3   4          70       RL         60.0     9550   Pave   NaN      IR1   \n",
       "4   5          60       RL         84.0    14260   Pave   NaN      IR1   \n",
       "\n",
       "  LandContour Utilities  ... PoolArea PoolQC Fence MiscFeature MiscVal MoSold  \\\n",
       "0         Lvl    AllPub  ...        0    NaN   NaN         NaN       0      2   \n",
       "1         Lvl    AllPub  ...        0    NaN   NaN         NaN       0      5   \n",
       "2         Lvl    AllPub  ...        0    NaN   NaN         NaN       0      9   \n",
       "3         Lvl    AllPub  ...        0    NaN   NaN         NaN       0      2   \n",
       "4         Lvl    AllPub  ...        0    NaN   NaN         NaN       0     12   \n",
       "\n",
       "  YrSold  SaleType  SaleCondition  SalePrice  \n",
       "0   2008        WD         Normal     208500  \n",
       "1   2007        WD         Normal     181500  \n",
       "2   2008        WD         Normal     223500  \n",
       "3   2006        WD        Abnorml     140000  \n",
       "4   2008        WD         Normal     250000  \n",
       "\n",
       "[5 rows x 81 columns]"
      ]
     },
     "execution_count": 5,
     "metadata": {},
     "output_type": "execute_result"
    }
   ],
   "source": [
    "pca =pd.read_csv(r\"C:\\Users\\Vicky Yewle\\Downloads\\Machine Learning\\Datasets\\PrincipalComponentAnalysis_PCA_\\Principal Component Analysis (PCA)\\Dataset\\houseprice.csv\")\n",
    "pca.head()"
   ]
  },
  {
   "cell_type": "code",
   "execution_count": 6,
   "metadata": {},
   "outputs": [
    {
     "data": {
      "text/plain": [
       "(1460, 81)"
      ]
     },
     "execution_count": 6,
     "metadata": {},
     "output_type": "execute_result"
    }
   ],
   "source": [
    "pca.shape"
   ]
  },
  {
   "cell_type": "code",
   "execution_count": 7,
   "metadata": {},
   "outputs": [],
   "source": [
    "#Importing Data Auditor custom made function\n",
    "\n",
    "class Data_Auditor:\n",
    "    def NA_in_Data(data_frame):\n",
    "        result = (data_frame.isnull().sum().sum()) / (data_frame.shape[0] * data_frame.shape[1]) * 100\n",
    "        return(print(\"Data has\",round(result,2),\"% NA's\"))\n",
    "    \n",
    "    def Remove_Columns(data_frame,*args):\n",
    "        list_of_cols = list(args)\n",
    "        data_frame.drop(list_of_cols,axis = 1,inplace = True)\n",
    "        \n",
    "    def NA_in_Columns(data_frame):\n",
    "        total_missing = data_frame.isnull().sum().sort_values(ascending=False)\n",
    "        percent_missing = round(((data_frame.isnull().sum()/data_frame.isnull().count()).sort_values(ascending=False)*100),1)\n",
    "        missing_data = pd.concat([total_missing, percent_missing], axis=1, keys=['Missing_Obs', 'Percent_of_NA'])\n",
    "        return(missing_data.head(10))\n",
    "        \n",
    "    def Most_Frequent_Data(data_frame,Column):\n",
    "        Count = data_frame[Column].value_counts()\n",
    "        Percentage = round(((data_frame[Column].value_counts()/data_frame.shape[0])*100),2)\n",
    "        Summary_data = pd.concat([Count, Percentage], axis=1, keys=['Count','Percentage'])\n",
    "        return(Summary_data)\n",
    "        \n",
    "    def Remove_Outlier(data_frame,low,high):\n",
    "        quant_df = data_frame.quantile([low, high])\n",
    "        for cols in list(data_frame.columns):\n",
    "            if data_frame[cols].dtypes == 'float64' or data_frame[cols].dtypes == 'int64':\n",
    "                df = data_frame[(data_frame[cols] > quant_df.loc[low, cols]) & (data_frame[cols] < quant_df.loc[high, cols])]\n",
    "                return(df)\n",
    "                \n",
    "    def Remove_Multicollinearity(data_frame,threshold):\n",
    "        corr_matrix = data_frame.corr().abs() # Create correlation matrix\n",
    "        upper = corr_matrix.where(np.triu(np.ones(corr_matrix.shape), k=1).astype(np.bool)) # Select upper triangle of correlation matrix\n",
    "        to_drop = [column for column in upper.columns if any(upper[column] > threshold)]# Find features with correlation greater than threshold\n",
    "        data_frame.drop(to_drop, axis=1, inplace=True)# Drop features\n",
    "        print(to_drop,'is removed')"
   ]
  },
  {
   "cell_type": "code",
   "execution_count": 8,
   "metadata": {},
   "outputs": [
    {
     "data": {
      "text/html": [
       "<div>\n",
       "<style scoped>\n",
       "    .dataframe tbody tr th:only-of-type {\n",
       "        vertical-align: middle;\n",
       "    }\n",
       "\n",
       "    .dataframe tbody tr th {\n",
       "        vertical-align: top;\n",
       "    }\n",
       "\n",
       "    .dataframe thead th {\n",
       "        text-align: right;\n",
       "    }\n",
       "</style>\n",
       "<table border=\"1\" class=\"dataframe\">\n",
       "  <thead>\n",
       "    <tr style=\"text-align: right;\">\n",
       "      <th></th>\n",
       "      <th>Missing_Obs</th>\n",
       "      <th>Percent_of_NA</th>\n",
       "    </tr>\n",
       "  </thead>\n",
       "  <tbody>\n",
       "    <tr>\n",
       "      <th>PoolQC</th>\n",
       "      <td>1453</td>\n",
       "      <td>99.5</td>\n",
       "    </tr>\n",
       "    <tr>\n",
       "      <th>MiscFeature</th>\n",
       "      <td>1406</td>\n",
       "      <td>96.3</td>\n",
       "    </tr>\n",
       "    <tr>\n",
       "      <th>Alley</th>\n",
       "      <td>1369</td>\n",
       "      <td>93.8</td>\n",
       "    </tr>\n",
       "    <tr>\n",
       "      <th>Fence</th>\n",
       "      <td>1179</td>\n",
       "      <td>80.8</td>\n",
       "    </tr>\n",
       "    <tr>\n",
       "      <th>FireplaceQu</th>\n",
       "      <td>690</td>\n",
       "      <td>47.3</td>\n",
       "    </tr>\n",
       "    <tr>\n",
       "      <th>LotFrontage</th>\n",
       "      <td>259</td>\n",
       "      <td>17.7</td>\n",
       "    </tr>\n",
       "    <tr>\n",
       "      <th>GarageCond</th>\n",
       "      <td>81</td>\n",
       "      <td>5.5</td>\n",
       "    </tr>\n",
       "    <tr>\n",
       "      <th>GarageType</th>\n",
       "      <td>81</td>\n",
       "      <td>5.5</td>\n",
       "    </tr>\n",
       "    <tr>\n",
       "      <th>GarageYrBlt</th>\n",
       "      <td>81</td>\n",
       "      <td>5.5</td>\n",
       "    </tr>\n",
       "    <tr>\n",
       "      <th>GarageFinish</th>\n",
       "      <td>81</td>\n",
       "      <td>5.5</td>\n",
       "    </tr>\n",
       "  </tbody>\n",
       "</table>\n",
       "</div>"
      ],
      "text/plain": [
       "              Missing_Obs  Percent_of_NA\n",
       "PoolQC               1453           99.5\n",
       "MiscFeature          1406           96.3\n",
       "Alley                1369           93.8\n",
       "Fence                1179           80.8\n",
       "FireplaceQu           690           47.3\n",
       "LotFrontage           259           17.7\n",
       "GarageCond             81            5.5\n",
       "GarageType             81            5.5\n",
       "GarageYrBlt            81            5.5\n",
       "GarageFinish           81            5.5"
      ]
     },
     "execution_count": 8,
     "metadata": {},
     "output_type": "execute_result"
    }
   ],
   "source": [
    "Data_Auditor.NA_in_Columns(pca)"
   ]
  },
  {
   "cell_type": "code",
   "execution_count": 9,
   "metadata": {},
   "outputs": [],
   "source": [
    "pca[\"PoolQC\"]=pca[\"PoolQC\"].fillna(\"No pool\")\n",
    "pca[\"MiscFeature\"]=pca[\"MiscFeature\"].fillna(\"No MiscFeature\")\n",
    "pca[\"Alley\"]=pca[\"Alley\"].fillna(\"No alley access\")\n",
    "pca[\"Fence\"]=pca[\"Fence\"].fillna(\"No Fence\")\n",
    "pca[\"FireplaceQu\"]=pca[\"FireplaceQu\"].fillna(\"No fireplace\")"
   ]
  },
  {
   "cell_type": "code",
   "execution_count": 10,
   "metadata": {},
   "outputs": [],
   "source": [
    "pca.groupby('Neighborhood')['LotFrontage'].median()\n",
    "\n",
    "pca['LotFrontage'] = pca['LotFrontage'].fillna(pca.groupby('Neighborhood')['LotFrontage'].transform('median'))"
   ]
  },
  {
   "cell_type": "code",
   "execution_count": 11,
   "metadata": {},
   "outputs": [],
   "source": [
    "del pca['Id']"
   ]
  },
  {
   "cell_type": "code",
   "execution_count": 12,
   "metadata": {},
   "outputs": [],
   "source": [
    "Garage_cols=[columns for columns in pca if columns.startswith('Garage')]\n",
    "\n",
    "for columns in Garage_cols:\n",
    "    if pca[columns].dtypes =='float64':\n",
    "        pca[columns]=0\n",
    "    else:\n",
    "        pca[columns]='No_Garage'\n",
    "\n",
    "del Garage_cols"
   ]
  },
  {
   "cell_type": "code",
   "execution_count": 13,
   "metadata": {},
   "outputs": [
    {
     "name": "stdout",
     "output_type": "stream",
     "text": [
      "Data has 0.17 % NA's\n"
     ]
    },
    {
     "data": {
      "text/html": [
       "<div>\n",
       "<style scoped>\n",
       "    .dataframe tbody tr th:only-of-type {\n",
       "        vertical-align: middle;\n",
       "    }\n",
       "\n",
       "    .dataframe tbody tr th {\n",
       "        vertical-align: top;\n",
       "    }\n",
       "\n",
       "    .dataframe thead th {\n",
       "        text-align: right;\n",
       "    }\n",
       "</style>\n",
       "<table border=\"1\" class=\"dataframe\">\n",
       "  <thead>\n",
       "    <tr style=\"text-align: right;\">\n",
       "      <th></th>\n",
       "      <th>Missing_Obs</th>\n",
       "      <th>Percent_of_NA</th>\n",
       "    </tr>\n",
       "  </thead>\n",
       "  <tbody>\n",
       "    <tr>\n",
       "      <th>BsmtFinType2</th>\n",
       "      <td>38</td>\n",
       "      <td>2.6</td>\n",
       "    </tr>\n",
       "    <tr>\n",
       "      <th>BsmtExposure</th>\n",
       "      <td>38</td>\n",
       "      <td>2.6</td>\n",
       "    </tr>\n",
       "    <tr>\n",
       "      <th>BsmtQual</th>\n",
       "      <td>37</td>\n",
       "      <td>2.5</td>\n",
       "    </tr>\n",
       "    <tr>\n",
       "      <th>BsmtFinType1</th>\n",
       "      <td>37</td>\n",
       "      <td>2.5</td>\n",
       "    </tr>\n",
       "    <tr>\n",
       "      <th>BsmtCond</th>\n",
       "      <td>37</td>\n",
       "      <td>2.5</td>\n",
       "    </tr>\n",
       "    <tr>\n",
       "      <th>MasVnrType</th>\n",
       "      <td>8</td>\n",
       "      <td>0.5</td>\n",
       "    </tr>\n",
       "    <tr>\n",
       "      <th>MasVnrArea</th>\n",
       "      <td>8</td>\n",
       "      <td>0.5</td>\n",
       "    </tr>\n",
       "    <tr>\n",
       "      <th>Electrical</th>\n",
       "      <td>1</td>\n",
       "      <td>0.1</td>\n",
       "    </tr>\n",
       "    <tr>\n",
       "      <th>ExterQual</th>\n",
       "      <td>0</td>\n",
       "      <td>0.0</td>\n",
       "    </tr>\n",
       "    <tr>\n",
       "      <th>RoofMatl</th>\n",
       "      <td>0</td>\n",
       "      <td>0.0</td>\n",
       "    </tr>\n",
       "  </tbody>\n",
       "</table>\n",
       "</div>"
      ],
      "text/plain": [
       "              Missing_Obs  Percent_of_NA\n",
       "BsmtFinType2           38            2.6\n",
       "BsmtExposure           38            2.6\n",
       "BsmtQual               37            2.5\n",
       "BsmtFinType1           37            2.5\n",
       "BsmtCond               37            2.5\n",
       "MasVnrType              8            0.5\n",
       "MasVnrArea              8            0.5\n",
       "Electrical              1            0.1\n",
       "ExterQual               0            0.0\n",
       "RoofMatl                0            0.0"
      ]
     },
     "execution_count": 13,
     "metadata": {},
     "output_type": "execute_result"
    }
   ],
   "source": [
    "Data_Auditor.NA_in_Data(pca)\n",
    "Data_Auditor.NA_in_Columns(pca)"
   ]
  },
  {
   "cell_type": "code",
   "execution_count": 14,
   "metadata": {},
   "outputs": [],
   "source": [
    "Basement_cols_data = pca.loc[:,pca.columns.str.contains(\"Basement\")]\n",
    "Basement_cols_data_2 = pca.loc[:,pca.columns.str.contains(\"Bsmt\")]\n",
    "\n",
    "Basement = pd.concat([Basement_cols_data,Basement_cols_data_2], axis=1)\n",
    "\n",
    "del Basement_cols_data\n",
    "del Basement_cols_data_2\n",
    "\n",
    "for columns in Basement.columns:\n",
    "    if pca[columns].dtypes == \"float64\":\n",
    "        pca[columns] = pca[columns].fillna(0)\n",
    "    else:\n",
    "        pca[columns] = pca[columns].fillna('No_Basement')\n",
    "    \n",
    "del Basement\n",
    "del columns"
   ]
  },
  {
   "cell_type": "code",
   "execution_count": 15,
   "metadata": {},
   "outputs": [
    {
     "name": "stdout",
     "output_type": "stream",
     "text": [
      "Data has 0.01 % NA's\n"
     ]
    },
    {
     "data": {
      "text/html": [
       "<div>\n",
       "<style scoped>\n",
       "    .dataframe tbody tr th:only-of-type {\n",
       "        vertical-align: middle;\n",
       "    }\n",
       "\n",
       "    .dataframe tbody tr th {\n",
       "        vertical-align: top;\n",
       "    }\n",
       "\n",
       "    .dataframe thead th {\n",
       "        text-align: right;\n",
       "    }\n",
       "</style>\n",
       "<table border=\"1\" class=\"dataframe\">\n",
       "  <thead>\n",
       "    <tr style=\"text-align: right;\">\n",
       "      <th></th>\n",
       "      <th>Missing_Obs</th>\n",
       "      <th>Percent_of_NA</th>\n",
       "    </tr>\n",
       "  </thead>\n",
       "  <tbody>\n",
       "    <tr>\n",
       "      <th>MasVnrType</th>\n",
       "      <td>8</td>\n",
       "      <td>0.5</td>\n",
       "    </tr>\n",
       "    <tr>\n",
       "      <th>MasVnrArea</th>\n",
       "      <td>8</td>\n",
       "      <td>0.5</td>\n",
       "    </tr>\n",
       "    <tr>\n",
       "      <th>Electrical</th>\n",
       "      <td>1</td>\n",
       "      <td>0.1</td>\n",
       "    </tr>\n",
       "    <tr>\n",
       "      <th>SalePrice</th>\n",
       "      <td>0</td>\n",
       "      <td>0.0</td>\n",
       "    </tr>\n",
       "    <tr>\n",
       "      <th>Foundation</th>\n",
       "      <td>0</td>\n",
       "      <td>0.0</td>\n",
       "    </tr>\n",
       "    <tr>\n",
       "      <th>RoofMatl</th>\n",
       "      <td>0</td>\n",
       "      <td>0.0</td>\n",
       "    </tr>\n",
       "    <tr>\n",
       "      <th>Exterior1st</th>\n",
       "      <td>0</td>\n",
       "      <td>0.0</td>\n",
       "    </tr>\n",
       "    <tr>\n",
       "      <th>Exterior2nd</th>\n",
       "      <td>0</td>\n",
       "      <td>0.0</td>\n",
       "    </tr>\n",
       "    <tr>\n",
       "      <th>ExterQual</th>\n",
       "      <td>0</td>\n",
       "      <td>0.0</td>\n",
       "    </tr>\n",
       "    <tr>\n",
       "      <th>ExterCond</th>\n",
       "      <td>0</td>\n",
       "      <td>0.0</td>\n",
       "    </tr>\n",
       "  </tbody>\n",
       "</table>\n",
       "</div>"
      ],
      "text/plain": [
       "             Missing_Obs  Percent_of_NA\n",
       "MasVnrType             8            0.5\n",
       "MasVnrArea             8            0.5\n",
       "Electrical             1            0.1\n",
       "SalePrice              0            0.0\n",
       "Foundation             0            0.0\n",
       "RoofMatl               0            0.0\n",
       "Exterior1st            0            0.0\n",
       "Exterior2nd            0            0.0\n",
       "ExterQual              0            0.0\n",
       "ExterCond              0            0.0"
      ]
     },
     "execution_count": 15,
     "metadata": {},
     "output_type": "execute_result"
    }
   ],
   "source": [
    "Data_Auditor.NA_in_Data(pca)\n",
    "Data_Auditor.NA_in_Columns(pca)"
   ]
  },
  {
   "cell_type": "code",
   "execution_count": 16,
   "metadata": {},
   "outputs": [],
   "source": [
    "pca[\"MasVnrType\"] = pca[\"MasVnrType\"].fillna(\"None\")\n",
    "pca[\"MasVnrArea\"] = pca[\"MasVnrArea\"].fillna(0)"
   ]
  },
  {
   "cell_type": "code",
   "execution_count": 17,
   "metadata": {},
   "outputs": [],
   "source": [
    "pca[\"Electrical\"] = pca[\"Electrical\"].fillna(pca[\"Electrical\"]).mode()[0]"
   ]
  },
  {
   "cell_type": "code",
   "execution_count": 18,
   "metadata": {},
   "outputs": [
    {
     "name": "stdout",
     "output_type": "stream",
     "text": [
      "Data has 0.0 % NA's\n"
     ]
    },
    {
     "data": {
      "text/html": [
       "<div>\n",
       "<style scoped>\n",
       "    .dataframe tbody tr th:only-of-type {\n",
       "        vertical-align: middle;\n",
       "    }\n",
       "\n",
       "    .dataframe tbody tr th {\n",
       "        vertical-align: top;\n",
       "    }\n",
       "\n",
       "    .dataframe thead th {\n",
       "        text-align: right;\n",
       "    }\n",
       "</style>\n",
       "<table border=\"1\" class=\"dataframe\">\n",
       "  <thead>\n",
       "    <tr style=\"text-align: right;\">\n",
       "      <th></th>\n",
       "      <th>Missing_Obs</th>\n",
       "      <th>Percent_of_NA</th>\n",
       "    </tr>\n",
       "  </thead>\n",
       "  <tbody>\n",
       "    <tr>\n",
       "      <th>SalePrice</th>\n",
       "      <td>0</td>\n",
       "      <td>0.0</td>\n",
       "    </tr>\n",
       "    <tr>\n",
       "      <th>SaleCondition</th>\n",
       "      <td>0</td>\n",
       "      <td>0.0</td>\n",
       "    </tr>\n",
       "    <tr>\n",
       "      <th>RoofMatl</th>\n",
       "      <td>0</td>\n",
       "      <td>0.0</td>\n",
       "    </tr>\n",
       "    <tr>\n",
       "      <th>Exterior1st</th>\n",
       "      <td>0</td>\n",
       "      <td>0.0</td>\n",
       "    </tr>\n",
       "    <tr>\n",
       "      <th>Exterior2nd</th>\n",
       "      <td>0</td>\n",
       "      <td>0.0</td>\n",
       "    </tr>\n",
       "    <tr>\n",
       "      <th>MasVnrType</th>\n",
       "      <td>0</td>\n",
       "      <td>0.0</td>\n",
       "    </tr>\n",
       "    <tr>\n",
       "      <th>MasVnrArea</th>\n",
       "      <td>0</td>\n",
       "      <td>0.0</td>\n",
       "    </tr>\n",
       "    <tr>\n",
       "      <th>ExterQual</th>\n",
       "      <td>0</td>\n",
       "      <td>0.0</td>\n",
       "    </tr>\n",
       "    <tr>\n",
       "      <th>ExterCond</th>\n",
       "      <td>0</td>\n",
       "      <td>0.0</td>\n",
       "    </tr>\n",
       "    <tr>\n",
       "      <th>Foundation</th>\n",
       "      <td>0</td>\n",
       "      <td>0.0</td>\n",
       "    </tr>\n",
       "  </tbody>\n",
       "</table>\n",
       "</div>"
      ],
      "text/plain": [
       "               Missing_Obs  Percent_of_NA\n",
       "SalePrice                0            0.0\n",
       "SaleCondition            0            0.0\n",
       "RoofMatl                 0            0.0\n",
       "Exterior1st              0            0.0\n",
       "Exterior2nd              0            0.0\n",
       "MasVnrType               0            0.0\n",
       "MasVnrArea               0            0.0\n",
       "ExterQual                0            0.0\n",
       "ExterCond                0            0.0\n",
       "Foundation               0            0.0"
      ]
     },
     "execution_count": 18,
     "metadata": {},
     "output_type": "execute_result"
    }
   ],
   "source": [
    "Data_Auditor.NA_in_Data(pca)\n",
    "Data_Auditor.NA_in_Columns(pca)"
   ]
  },
  {
   "cell_type": "code",
   "execution_count": 19,
   "metadata": {},
   "outputs": [],
   "source": [
    "pca['Total_HouseArea_SqFt'] =pca['BsmtFinSF1']+ pca['BsmtFinSF2']+pca['TotalBsmtSF']+pca['1stFlrSF']+pca['2ndFlrSF']\n",
    "\n",
    "del pca['BsmtFinSF1']\n",
    "del pca['BsmtFinSF2']\n",
    "del pca['TotalBsmtSF']\n",
    "del pca['1stFlrSF']\n",
    "del pca['2ndFlrSF']"
   ]
  },
  {
   "cell_type": "code",
   "execution_count": 20,
   "metadata": {},
   "outputs": [],
   "source": [
    "df_object = pca.select_dtypes(include=[object])\n",
    "df_num = pca.select_dtypes(exclude=[object])"
   ]
  },
  {
   "cell_type": "code",
   "execution_count": 21,
   "metadata": {},
   "outputs": [
    {
     "name": "stdout",
     "output_type": "stream",
     "text": [
      "(1460, 45)\n",
      "(1460, 200)\n"
     ]
    }
   ],
   "source": [
    "print(df_object.shape)\n",
    "df_object = pd.get_dummies(df_object,drop_first= True)\n",
    "print(df_object.shape)"
   ]
  },
  {
   "cell_type": "code",
   "execution_count": 22,
   "metadata": {},
   "outputs": [],
   "source": [
    "pca = pd.concat([df_object, df_num], axis=1)"
   ]
  },
  {
   "cell_type": "code",
   "execution_count": 23,
   "metadata": {},
   "outputs": [],
   "source": [
    "import pandas as pd\n",
    "import numpy as np\n",
    "from matplotlib import pyplot as plt\n",
    "from sklearn.decomposition import PCA\n",
    "import seaborn as sns"
   ]
  },
  {
   "cell_type": "code",
   "execution_count": 24,
   "metadata": {},
   "outputs": [],
   "source": [
    "from sklearn.preprocessing import MinMaxScaler as mms\n",
    "scaler = mms()\n",
    "\n",
    "X = pca.drop('SalePrice',axis =1 )\n",
    "x = scaler.fit_transform(X)\n",
    "\n",
    "y=pca['SalePrice']"
   ]
  },
  {
   "cell_type": "code",
   "execution_count": 25,
   "metadata": {},
   "outputs": [
    {
     "name": "stdout",
     "output_type": "stream",
     "text": [
      "1460\n",
      "1460\n"
     ]
    }
   ],
   "source": [
    "print(len(x))\n",
    "print(len(y))"
   ]
  },
  {
   "cell_type": "code",
   "execution_count": 26,
   "metadata": {},
   "outputs": [
    {
     "data": {
      "text/plain": [
       "array([[ 3.63723898e-02, -5.22066376e-03,  3.63747573e-02, ...,\n",
       "         7.07263941e-03, -8.45513768e-03,  1.83290342e-02],\n",
       "       [ 6.34477416e-02,  1.16466084e-02, -2.97957698e-01, ...,\n",
       "        -1.41654702e-03, -1.14163111e-02, -3.41649770e-02],\n",
       "       [-1.24289843e-02,  7.44354661e-04,  2.83523849e-02, ...,\n",
       "         7.43044412e-03, -8.64966317e-03,  8.26289492e-04],\n",
       "       ...,\n",
       "       [ 0.00000000e+00, -1.50890501e-16, -4.38230386e-17, ...,\n",
       "         1.55986734e-18,  2.74403076e-17,  7.91158770e-16],\n",
       "       [ 0.00000000e+00, -8.38376128e-18,  4.84039677e-18, ...,\n",
       "        -4.14844155e-18, -2.30331732e-18, -5.06142430e-17],\n",
       "       [ 0.00000000e+00, -1.36488854e-17,  4.03438352e-17, ...,\n",
       "         5.63344492e-17,  5.05715128e-17,  1.62227636e-15]])"
      ]
     },
     "execution_count": 26,
     "metadata": {},
     "output_type": "execute_result"
    }
   ],
   "source": [
    "from sklearn.decomposition import PCA\n",
    "\n",
    "pca = PCA(random_state=42)\n",
    "\n",
    "pca.fit(x)\n",
    "pca.components_"
   ]
  },
  {
   "cell_type": "code",
   "execution_count": 27,
   "metadata": {},
   "outputs": [
    {
     "data": {
      "text/plain": [
       "array([1.55487335e-01, 5.82400223e-02, 4.38562961e-02, 3.74593730e-02,\n",
       "       3.33543478e-02, 3.00910938e-02, 2.75239175e-02, 2.49910251e-02,\n",
       "       2.29984401e-02, 2.24474483e-02, 2.16192212e-02, 1.95771847e-02,\n",
       "       1.91254840e-02, 1.82266057e-02, 1.75801749e-02, 1.68461439e-02,\n",
       "       1.63130932e-02, 1.53378425e-02, 1.41646800e-02, 1.29957443e-02,\n",
       "       1.29190627e-02, 1.26984074e-02, 1.16250004e-02, 1.12539025e-02,\n",
       "       1.01182580e-02, 9.75445459e-03, 9.10665502e-03, 8.97279810e-03,\n",
       "       8.34374349e-03, 8.29126792e-03, 8.09829229e-03, 7.80708002e-03,\n",
       "       7.46105913e-03, 7.29802937e-03, 6.82745431e-03, 6.41142862e-03,\n",
       "       6.37756676e-03, 6.20937920e-03, 5.89903971e-03, 5.63928292e-03,\n",
       "       5.50426885e-03, 5.41994884e-03, 5.26181731e-03, 5.12407922e-03,\n",
       "       4.81570489e-03, 4.69948130e-03, 4.50985777e-03, 4.32876982e-03,\n",
       "       4.29434356e-03, 4.20856321e-03, 4.03904058e-03, 3.91813004e-03,\n",
       "       3.82413061e-03, 3.74560425e-03, 3.60736621e-03, 3.41054320e-03,\n",
       "       3.38255965e-03, 3.22685516e-03, 3.15554010e-03, 3.09085672e-03,\n",
       "       2.99529424e-03, 2.93010413e-03, 2.84973948e-03, 2.79324300e-03,\n",
       "       2.71187361e-03, 2.63712320e-03, 2.58687763e-03, 2.52242228e-03,\n",
       "       2.48054631e-03, 2.47141984e-03, 2.37394944e-03, 2.35062613e-03,\n",
       "       2.27138070e-03, 2.25047972e-03, 2.15523342e-03, 2.12497009e-03,\n",
       "       2.10277366e-03, 2.07351290e-03, 2.01624834e-03, 1.95298111e-03,\n",
       "       1.91147757e-03, 1.85961811e-03, 1.84699009e-03, 1.78438719e-03,\n",
       "       1.71336617e-03, 1.68153965e-03, 1.65730900e-03, 1.57385300e-03,\n",
       "       1.49880388e-03, 1.47829924e-03, 1.41977765e-03, 1.39644747e-03,\n",
       "       1.38649804e-03, 1.31776583e-03, 1.25974400e-03, 1.22249163e-03,\n",
       "       1.18008143e-03, 1.16330189e-03, 1.11617285e-03, 1.06257214e-03,\n",
       "       1.05942183e-03, 1.00679530e-03, 9.95936622e-04, 9.82266986e-04,\n",
       "       9.63876503e-04, 9.23874238e-04, 9.03823821e-04, 8.87091968e-04,\n",
       "       8.70552261e-04, 8.53262597e-04, 8.35312670e-04, 8.25490165e-04,\n",
       "       7.74382586e-04, 7.64640941e-04, 7.39768262e-04, 7.31424490e-04,\n",
       "       7.18673315e-04, 6.72509800e-04, 6.63696035e-04, 6.56824287e-04,\n",
       "       6.50469895e-04, 6.29781614e-04, 6.19276199e-04, 6.01258005e-04,\n",
       "       5.88740588e-04, 5.86432321e-04, 5.75098521e-04, 5.41312003e-04,\n",
       "       5.34234448e-04, 5.20540179e-04, 4.95417269e-04, 4.92953429e-04,\n",
       "       4.75488739e-04, 4.52726990e-04, 4.37783938e-04, 4.31827114e-04,\n",
       "       4.25707417e-04, 4.18058211e-04, 4.13203455e-04, 4.10891567e-04,\n",
       "       3.97143538e-04, 3.95634477e-04, 3.87709789e-04, 3.70875484e-04,\n",
       "       3.64774441e-04, 3.44102641e-04, 3.29076118e-04, 3.25328307e-04,\n",
       "       3.12168527e-04, 2.93030473e-04, 2.89446007e-04, 2.87508560e-04,\n",
       "       2.68222306e-04, 2.62159847e-04, 2.57825207e-04, 2.51874329e-04,\n",
       "       2.47590103e-04, 2.37304239e-04, 2.30956326e-04, 2.30668587e-04,\n",
       "       2.25018487e-04, 2.17441170e-04, 2.06143937e-04, 2.00201796e-04,\n",
       "       1.97833084e-04, 1.95304026e-04, 1.87982726e-04, 1.80492540e-04,\n",
       "       1.77524006e-04, 1.71999422e-04, 1.64067450e-04, 1.61805368e-04,\n",
       "       1.52620891e-04, 1.47314206e-04, 1.42791071e-04, 1.34285088e-04,\n",
       "       1.29920838e-04, 1.24964274e-04, 1.24298963e-04, 1.19356216e-04,\n",
       "       1.12142386e-04, 1.07417598e-04, 1.04529501e-04, 1.01668414e-04,\n",
       "       9.74849967e-05, 9.23147572e-05, 9.13899953e-05, 8.85705329e-05,\n",
       "       8.75994079e-05, 8.29227210e-05, 7.83330118e-05, 7.49211239e-05,\n",
       "       7.26456161e-05, 7.06937613e-05, 6.83548199e-05, 6.63029709e-05,\n",
       "       6.28224532e-05, 5.98683493e-05, 5.72432677e-05, 5.65964658e-05,\n",
       "       5.08404174e-05, 4.98063985e-05, 4.84585329e-05, 4.62104676e-05,\n",
       "       4.35967971e-05, 4.25668892e-05, 4.12291287e-05, 3.99106228e-05,\n",
       "       3.81913212e-05, 3.67887389e-05, 3.42451889e-05, 3.21217214e-05,\n",
       "       3.10775965e-05, 2.72168112e-05, 2.22433205e-05, 1.98455525e-05,\n",
       "       1.72712791e-05, 1.62291584e-05, 1.47167954e-05, 1.16286637e-05,\n",
       "       8.93400560e-06, 8.52509922e-06, 8.14201983e-06, 3.18074724e-06,\n",
       "       6.72509693e-07, 5.43651959e-07, 6.53905059e-34, 6.53905059e-34,\n",
       "       6.53905059e-34, 4.89198977e-34])"
      ]
     },
     "execution_count": 27,
     "metadata": {},
     "output_type": "execute_result"
    }
   ],
   "source": [
    "pca.explained_variance_ratio_"
   ]
  },
  {
   "cell_type": "code",
   "execution_count": 28,
   "metadata": {},
   "outputs": [
    {
     "data": {
      "text/plain": [
       "<BarContainer object of 230 artists>"
      ]
     },
     "execution_count": 28,
     "metadata": {},
     "output_type": "execute_result"
    },
    {
     "data": {
      "image/png": "[encoded data removed]",
      "text/plain": [
       "<Figure size 432x288 with 1 Axes>"
      ]
     },
     "metadata": {
      "needs_background": "light"
     },
     "output_type": "display_data"
    }
   ],
   "source": [
    "import matplotlib.pyplot as plt\n",
    "plt.bar(range(1,len(pca.explained_variance_ratio_)+1), pca.explained_variance_ratio_)"
   ]
  },
  {
   "cell_type": "code",
   "execution_count": 29,
   "metadata": {},
   "outputs": [],
   "source": [
    "var_cumu = np.cumsum(pca.explained_variance_ratio_)"
   ]
  },
  {
   "cell_type": "code",
   "execution_count": 30,
   "metadata": {},
   "outputs": [
    {
     "data": {
      "text/plain": [
       "[<matplotlib.lines.Line2D at 0x22fe7844280>]"
      ]
     },
     "execution_count": 30,
     "metadata": {},
     "output_type": "execute_result"
    },
    {
     "data": {
      "image/png": "[encoded data removed]",
      "text/plain": [
       "<Figure size 432x288 with 1 Axes>"
      ]
     },
     "metadata": {
      "needs_background": "light"
     },
     "output_type": "display_data"
    }
   ],
   "source": [
    "plt.plot(range(1,len(var_cumu)+1), var_cumu)"
   ]
  },
  {
   "cell_type": "code",
   "execution_count": 31,
   "metadata": {},
   "outputs": [],
   "source": [
    "pc2 = PCA(n_components=8, random_state=42)"
   ]
  },
  {
   "cell_type": "code",
   "execution_count": 32,
   "metadata": {},
   "outputs": [],
   "source": [
    "newdata = pc2.fit_transform(x)"
   ]
  },
  {
   "cell_type": "code",
   "execution_count": 33,
   "metadata": {},
   "outputs": [
    {
     "data": {
      "text/plain": [
       "(1460, 8)"
      ]
     },
     "execution_count": 33,
     "metadata": {},
     "output_type": "execute_result"
    }
   ],
   "source": [
    "newdata.shape"
   ]
  },
  {
   "cell_type": "code",
   "execution_count": 34,
   "metadata": {},
   "outputs": [
    {
     "data": {
      "text/html": [
       "<div>\n",
       "<style scoped>\n",
       "    .dataframe tbody tr th:only-of-type {\n",
       "        vertical-align: middle;\n",
       "    }\n",
       "\n",
       "    .dataframe tbody tr th {\n",
       "        vertical-align: top;\n",
       "    }\n",
       "\n",
       "    .dataframe thead th {\n",
       "        text-align: right;\n",
       "    }\n",
       "</style>\n",
       "<table border=\"1\" class=\"dataframe\">\n",
       "  <thead>\n",
       "    <tr style=\"text-align: right;\">\n",
       "      <th></th>\n",
       "      <th>SalePrice</th>\n",
       "    </tr>\n",
       "  </thead>\n",
       "  <tbody>\n",
       "    <tr>\n",
       "      <th>0</th>\n",
       "      <td>208500</td>\n",
       "    </tr>\n",
       "    <tr>\n",
       "      <th>1</th>\n",
       "      <td>181500</td>\n",
       "    </tr>\n",
       "    <tr>\n",
       "      <th>2</th>\n",
       "      <td>223500</td>\n",
       "    </tr>\n",
       "    <tr>\n",
       "      <th>3</th>\n",
       "      <td>140000</td>\n",
       "    </tr>\n",
       "    <tr>\n",
       "      <th>4</th>\n",
       "      <td>250000</td>\n",
       "    </tr>\n",
       "  </tbody>\n",
       "</table>\n",
       "</div>"
      ],
      "text/plain": [
       "   SalePrice\n",
       "0     208500\n",
       "1     181500\n",
       "2     223500\n",
       "3     140000\n",
       "4     250000"
      ]
     },
     "execution_count": 34,
     "metadata": {},
     "output_type": "execute_result"
    }
   ],
   "source": [
    "df = pd.DataFrame(newdata, columns= ['PC1',\"PC2\",\"PC3\",\"PC4\",\"PC5\",\"PC6\",\"PC7\",\"PC8\"])\n",
    "y=pd.DataFrame(y)\n",
    "df.head()\n",
    "y.head()"
   ]
  },
  {
   "cell_type": "code",
   "execution_count": 35,
   "metadata": {},
   "outputs": [
    {
     "name": "stdout",
     "output_type": "stream",
     "text": [
      "(1460, 8)\n",
      "(1460, 1)\n"
     ]
    }
   ],
   "source": [
    "print(df.shape)\n",
    "print(y.shape)"
   ]
  },
  {
   "cell_type": "code",
   "execution_count": 36,
   "metadata": {},
   "outputs": [
    {
     "data": {
      "text/html": [
       "<div>\n",
       "<style scoped>\n",
       "    .dataframe tbody tr th:only-of-type {\n",
       "        vertical-align: middle;\n",
       "    }\n",
       "\n",
       "    .dataframe tbody tr th {\n",
       "        vertical-align: top;\n",
       "    }\n",
       "\n",
       "    .dataframe thead th {\n",
       "        text-align: right;\n",
       "    }\n",
       "</style>\n",
       "<table border=\"1\" class=\"dataframe\">\n",
       "  <thead>\n",
       "    <tr style=\"text-align: right;\">\n",
       "      <th></th>\n",
       "      <th>PC1</th>\n",
       "      <th>PC2</th>\n",
       "      <th>PC3</th>\n",
       "      <th>PC4</th>\n",
       "      <th>PC5</th>\n",
       "      <th>PC6</th>\n",
       "      <th>PC7</th>\n",
       "      <th>PC8</th>\n",
       "      <th>SalePrice</th>\n",
       "    </tr>\n",
       "  </thead>\n",
       "  <tbody>\n",
       "    <tr>\n",
       "      <th>0</th>\n",
       "      <td>2.002489</td>\n",
       "      <td>0.260652</td>\n",
       "      <td>-0.528568</td>\n",
       "      <td>-0.880013</td>\n",
       "      <td>-1.034111</td>\n",
       "      <td>-0.085527</td>\n",
       "      <td>-0.307780</td>\n",
       "      <td>-0.526570</td>\n",
       "      <td>208500</td>\n",
       "    </tr>\n",
       "    <tr>\n",
       "      <th>1</th>\n",
       "      <td>-0.714013</td>\n",
       "      <td>-0.501992</td>\n",
       "      <td>-0.217616</td>\n",
       "      <td>-0.374499</td>\n",
       "      <td>0.764110</td>\n",
       "      <td>0.471462</td>\n",
       "      <td>0.145356</td>\n",
       "      <td>0.437791</td>\n",
       "      <td>181500</td>\n",
       "    </tr>\n",
       "    <tr>\n",
       "      <th>2</th>\n",
       "      <td>2.342183</td>\n",
       "      <td>-0.503188</td>\n",
       "      <td>-0.955708</td>\n",
       "      <td>-0.461566</td>\n",
       "      <td>-0.108470</td>\n",
       "      <td>0.032820</td>\n",
       "      <td>-0.034036</td>\n",
       "      <td>-0.565493</td>\n",
       "      <td>223500</td>\n",
       "    </tr>\n",
       "    <tr>\n",
       "      <th>3</th>\n",
       "      <td>-0.271328</td>\n",
       "      <td>0.366511</td>\n",
       "      <td>-0.449613</td>\n",
       "      <td>1.113064</td>\n",
       "      <td>1.098547</td>\n",
       "      <td>-0.156366</td>\n",
       "      <td>-0.267959</td>\n",
       "      <td>0.282535</td>\n",
       "      <td>140000</td>\n",
       "    </tr>\n",
       "    <tr>\n",
       "      <th>4</th>\n",
       "      <td>2.327048</td>\n",
       "      <td>-0.634644</td>\n",
       "      <td>-1.149619</td>\n",
       "      <td>-0.261451</td>\n",
       "      <td>-0.003845</td>\n",
       "      <td>-0.119692</td>\n",
       "      <td>-0.036493</td>\n",
       "      <td>-0.461441</td>\n",
       "      <td>250000</td>\n",
       "    </tr>\n",
       "    <tr>\n",
       "      <th>...</th>\n",
       "      <td>...</td>\n",
       "      <td>...</td>\n",
       "      <td>...</td>\n",
       "      <td>...</td>\n",
       "      <td>...</td>\n",
       "      <td>...</td>\n",
       "      <td>...</td>\n",
       "      <td>...</td>\n",
       "      <td>...</td>\n",
       "    </tr>\n",
       "    <tr>\n",
       "      <th>1455</th>\n",
       "      <td>0.697028</td>\n",
       "      <td>0.831349</td>\n",
       "      <td>-1.017445</td>\n",
       "      <td>-0.090615</td>\n",
       "      <td>0.173094</td>\n",
       "      <td>-1.276628</td>\n",
       "      <td>0.703532</td>\n",
       "      <td>-0.342678</td>\n",
       "      <td>175000</td>\n",
       "    </tr>\n",
       "    <tr>\n",
       "      <th>1456</th>\n",
       "      <td>-0.895992</td>\n",
       "      <td>-1.264620</td>\n",
       "      <td>-0.416216</td>\n",
       "      <td>-0.475495</td>\n",
       "      <td>0.315422</td>\n",
       "      <td>-0.175275</td>\n",
       "      <td>0.371774</td>\n",
       "      <td>0.219035</td>\n",
       "      <td>210000</td>\n",
       "    </tr>\n",
       "    <tr>\n",
       "      <th>1457</th>\n",
       "      <td>0.154012</td>\n",
       "      <td>0.305194</td>\n",
       "      <td>-0.496877</td>\n",
       "      <td>0.867420</td>\n",
       "      <td>0.577698</td>\n",
       "      <td>0.665505</td>\n",
       "      <td>-0.834934</td>\n",
       "      <td>0.037319</td>\n",
       "      <td>266500</td>\n",
       "    </tr>\n",
       "    <tr>\n",
       "      <th>1458</th>\n",
       "      <td>-0.873949</td>\n",
       "      <td>-0.556896</td>\n",
       "      <td>1.017693</td>\n",
       "      <td>-0.350684</td>\n",
       "      <td>-0.049219</td>\n",
       "      <td>1.165200</td>\n",
       "      <td>-1.026145</td>\n",
       "      <td>-0.019216</td>\n",
       "      <td>142125</td>\n",
       "    </tr>\n",
       "    <tr>\n",
       "      <th>1459</th>\n",
       "      <td>-1.068613</td>\n",
       "      <td>-0.319753</td>\n",
       "      <td>0.193399</td>\n",
       "      <td>-0.737027</td>\n",
       "      <td>-0.094979</td>\n",
       "      <td>-0.070700</td>\n",
       "      <td>-0.524180</td>\n",
       "      <td>0.407202</td>\n",
       "      <td>147500</td>\n",
       "    </tr>\n",
       "  </tbody>\n",
       "</table>\n",
       "<p>1460 rows × 9 columns</p>\n",
       "</div>"
      ],
      "text/plain": [
       "           PC1       PC2       PC3       PC4       PC5       PC6       PC7  \\\n",
       "0     2.002489  0.260652 -0.528568 -0.880013 -1.034111 -0.085527 -0.307780   \n",
       "1    -0.714013 -0.501992 -0.217616 -0.374499  0.764110  0.471462  0.145356   \n",
       "2     2.342183 -0.503188 -0.955708 -0.461566 -0.108470  0.032820 -0.034036   \n",
       "3    -0.271328  0.366511 -0.449613  1.113064  1.098547 -0.156366 -0.267959   \n",
       "4     2.327048 -0.634644 -1.149619 -0.261451 -0.003845 -0.119692 -0.036493   \n",
       "...        ...       ...       ...       ...       ...       ...       ...   \n",
       "1455  0.697028  0.831349 -1.017445 -0.090615  0.173094 -1.276628  0.703532   \n",
       "1456 -0.895992 -1.264620 -0.416216 -0.475495  0.315422 -0.175275  0.371774   \n",
       "1457  0.154012  0.305194 -0.496877  0.867420  0.577698  0.665505 -0.834934   \n",
       "1458 -0.873949 -0.556896  1.017693 -0.350684 -0.049219  1.165200 -1.026145   \n",
       "1459 -1.068613 -0.319753  0.193399 -0.737027 -0.094979 -0.070700 -0.524180   \n",
       "\n",
       "           PC8  SalePrice  \n",
       "0    -0.526570     208500  \n",
       "1     0.437791     181500  \n",
       "2    -0.565493     223500  \n",
       "3     0.282535     140000  \n",
       "4    -0.461441     250000  \n",
       "...        ...        ...  \n",
       "1455 -0.342678     175000  \n",
       "1456  0.219035     210000  \n",
       "1457  0.037319     266500  \n",
       "1458 -0.019216     142125  \n",
       "1459  0.407202     147500  \n",
       "\n",
       "[1460 rows x 9 columns]"
      ]
     },
     "execution_count": 36,
     "metadata": {},
     "output_type": "execute_result"
    }
   ],
   "source": [
    "df_final = pd.concat([df,y], axis=1)\n",
    "df_final"
   ]
  },
  {
   "cell_type": "code",
   "execution_count": 37,
   "metadata": {},
   "outputs": [
    {
     "name": "stdout",
     "output_type": "stream",
     "text": [
      "(1168, 9)\n",
      "(292, 9)\n"
     ]
    }
   ],
   "source": [
    "from sklearn.model_selection import train_test_split as tts\n",
    "\n",
    "df_train, df_test = tts(df_final, train_size = 0.8, random_state = 100)\n",
    "print(df_train.shape)\n",
    "print(df_test.shape)"
   ]
  },
  {
   "cell_type": "code",
   "execution_count": 38,
   "metadata": {},
   "outputs": [],
   "source": [
    "y_train = df_train.pop('SalePrice')\n",
    "X_train = df_train"
   ]
  },
  {
   "cell_type": "code",
   "execution_count": 39,
   "metadata": {},
   "outputs": [
    {
     "data": {
      "text/html": [
       "<table class=\"simpletable\">\n",
       "<caption>OLS Regression Results</caption>\n",
       "<tr>\n",
       "  <th>Dep. Variable:</th>        <td>SalePrice</td>    <th>  R-squared:         </th> <td>   0.614</td> \n",
       "</tr>\n",
       "<tr>\n",
       "  <th>Model:</th>                   <td>OLS</td>       <th>  Adj. R-squared:    </th> <td>   0.611</td> \n",
       "</tr>\n",
       "<tr>\n",
       "  <th>Method:</th>             <td>Least Squares</td>  <th>  F-statistic:       </th> <td>   230.3</td> \n",
       "</tr>\n",
       "<tr>\n",
       "  <th>Date:</th>             <td>Thu, 01 Apr 2021</td> <th>  Prob (F-statistic):</th> <td>2.38e-233</td>\n",
       "</tr>\n",
       "<tr>\n",
       "  <th>Time:</th>                 <td>12:29:45</td>     <th>  Log-Likelihood:    </th> <td> -14277.</td> \n",
       "</tr>\n",
       "<tr>\n",
       "  <th>No. Observations:</th>      <td>  1168</td>      <th>  AIC:               </th> <td>2.857e+04</td>\n",
       "</tr>\n",
       "<tr>\n",
       "  <th>Df Residuals:</th>          <td>  1159</td>      <th>  BIC:               </th> <td>2.862e+04</td>\n",
       "</tr>\n",
       "<tr>\n",
       "  <th>Df Model:</th>              <td>     8</td>      <th>                     </th>     <td> </td>    \n",
       "</tr>\n",
       "<tr>\n",
       "  <th>Covariance Type:</th>      <td>nonrobust</td>    <th>                     </th>     <td> </td>    \n",
       "</tr>\n",
       "</table>\n",
       "<table class=\"simpletable\">\n",
       "<tr>\n",
       "    <td></td>       <th>coef</th>     <th>std err</th>      <th>t</th>      <th>P>|t|</th>  <th>[0.025</th>    <th>0.975]</th>  \n",
       "</tr>\n",
       "<tr>\n",
       "  <th>const</th> <td> 1.807e+05</td> <td> 1447.291</td> <td>  124.843</td> <td> 0.000</td> <td> 1.78e+05</td> <td> 1.84e+05</td>\n",
       "</tr>\n",
       "<tr>\n",
       "  <th>PC1</th>   <td> 3.705e+04</td> <td> 1047.293</td> <td>   35.381</td> <td> 0.000</td> <td>  3.5e+04</td> <td> 3.91e+04</td>\n",
       "</tr>\n",
       "<tr>\n",
       "  <th>PC2</th>   <td>-2.818e+04</td> <td> 1716.451</td> <td>  -16.416</td> <td> 0.000</td> <td>-3.15e+04</td> <td>-2.48e+04</td>\n",
       "</tr>\n",
       "<tr>\n",
       "  <th>PC3</th>   <td>  821.6105</td> <td> 1964.040</td> <td>    0.418</td> <td> 0.676</td> <td>-3031.862</td> <td> 4675.083</td>\n",
       "</tr>\n",
       "<tr>\n",
       "  <th>PC4</th>   <td> 3.455e+04</td> <td> 2156.820</td> <td>   16.017</td> <td> 0.000</td> <td> 3.03e+04</td> <td> 3.88e+04</td>\n",
       "</tr>\n",
       "<tr>\n",
       "  <th>PC5</th>   <td> 8542.1093</td> <td> 2263.956</td> <td>    3.773</td> <td> 0.000</td> <td> 4100.199</td> <td>  1.3e+04</td>\n",
       "</tr>\n",
       "<tr>\n",
       "  <th>PC6</th>   <td> 8779.5802</td> <td> 2408.964</td> <td>    3.645</td> <td> 0.000</td> <td> 4053.162</td> <td> 1.35e+04</td>\n",
       "</tr>\n",
       "<tr>\n",
       "  <th>PC7</th>   <td> 8709.6194</td> <td> 2485.819</td> <td>    3.504</td> <td> 0.000</td> <td> 3832.410</td> <td> 1.36e+04</td>\n",
       "</tr>\n",
       "<tr>\n",
       "  <th>PC8</th>   <td>  124.8808</td> <td> 2639.153</td> <td>    0.047</td> <td> 0.962</td> <td>-5053.171</td> <td> 5302.932</td>\n",
       "</tr>\n",
       "</table>\n",
       "<table class=\"simpletable\">\n",
       "<tr>\n",
       "  <th>Omnibus:</th>       <td>727.429</td> <th>  Durbin-Watson:     </th> <td>   2.048</td> \n",
       "</tr>\n",
       "<tr>\n",
       "  <th>Prob(Omnibus):</th> <td> 0.000</td>  <th>  Jarque-Bera (JB):  </th> <td>17213.279</td>\n",
       "</tr>\n",
       "<tr>\n",
       "  <th>Skew:</th>          <td> 2.446</td>  <th>  Prob(JB):          </th> <td>    0.00</td> \n",
       "</tr>\n",
       "<tr>\n",
       "  <th>Kurtosis:</th>      <td>21.160</td>  <th>  Cond. No.          </th> <td>    2.53</td> \n",
       "</tr>\n",
       "</table><br/><br/>Notes:<br/>[1] Standard Errors assume that the covariance matrix of the errors is correctly specified."
      ],
      "text/plain": [
       "<class 'statsmodels.iolib.summary.Summary'>\n",
       "\"\"\"\n",
       "                            OLS Regression Results                            \n",
       "==============================================================================\n",
       "Dep. Variable:              SalePrice   R-squared:                       0.614\n",
       "Model:                            OLS   Adj. R-squared:                  0.611\n",
       "Method:                 Least Squares   F-statistic:                     230.3\n",
       "Date:                Thu, 01 Apr 2021   Prob (F-statistic):          2.38e-233\n",
       "Time:                        12:29:45   Log-Likelihood:                -14277.\n",
       "No. Observations:                1168   AIC:                         2.857e+04\n",
       "Df Residuals:                    1159   BIC:                         2.862e+04\n",
       "Df Model:                           8                                         \n",
       "Covariance Type:            nonrobust                                         \n",
       "==============================================================================\n",
       "                 coef    std err          t      P>|t|      [0.025      0.975]\n",
       "------------------------------------------------------------------------------\n",
       "const       1.807e+05   1447.291    124.843      0.000    1.78e+05    1.84e+05\n",
       "PC1         3.705e+04   1047.293     35.381      0.000     3.5e+04    3.91e+04\n",
       "PC2        -2.818e+04   1716.451    -16.416      0.000   -3.15e+04   -2.48e+04\n",
       "PC3          821.6105   1964.040      0.418      0.676   -3031.862    4675.083\n",
       "PC4         3.455e+04   2156.820     16.017      0.000    3.03e+04    3.88e+04\n",
       "PC5         8542.1093   2263.956      3.773      0.000    4100.199     1.3e+04\n",
       "PC6         8779.5802   2408.964      3.645      0.000    4053.162    1.35e+04\n",
       "PC7         8709.6194   2485.819      3.504      0.000    3832.410    1.36e+04\n",
       "PC8          124.8808   2639.153      0.047      0.962   -5053.171    5302.932\n",
       "==============================================================================\n",
       "Omnibus:                      727.429   Durbin-Watson:                   2.048\n",
       "Prob(Omnibus):                  0.000   Jarque-Bera (JB):            17213.279\n",
       "Skew:                           2.446   Prob(JB):                         0.00\n",
       "Kurtosis:                      21.160   Cond. No.                         2.53\n",
       "==============================================================================\n",
       "\n",
       "Notes:\n",
       "[1] Standard Errors assume that the covariance matrix of the errors is correctly specified.\n",
       "\"\"\""
      ]
     },
     "execution_count": 39,
     "metadata": {},
     "output_type": "execute_result"
    }
   ],
   "source": [
    "import statsmodels.api as sm\n",
    "\n",
    "X_train_sm = sm.add_constant(X_train)\n",
    "\n",
    "lr = sm.OLS(y_train, X_train_sm)\n",
    "\n",
    "lr_model = lr.fit()\n",
    "\n",
    "lr_model.params\n",
    "\n",
    "lr_model.summary()"
   ]
  },
  {
   "cell_type": "code",
   "execution_count": null,
   "metadata": {},
   "outputs": [],
   "source": []
  }
 ],
 "metadata": {
  "kernelspec": {
   "display_name": "Python 3",
   "language": "python",
   "name": "python3"
  },
  "language_info": {
   "codemirror_mode": {
    "name": "ipython",
    "version": 3
   },
   "file_extension": ".py",
   "mimetype": "text/x-python",
   "name": "python",
   "nbconvert_exporter": "python",
   "pygments_lexer": "ipython3",
   "version": "3.8.5"
  }
 },
 "nbformat": 4,
 "nbformat_minor": 4
}
